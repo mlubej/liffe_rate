{
 "cells": [
  {
   "cell_type": "code",
   "execution_count": 1,
   "metadata": {},
   "outputs": [],
   "source": [
    "import random\n",
    "import re\n",
    "from time import sleep\n",
    "\n",
    "import requests\n",
    "from bs4 import BeautifulSoup\n",
    "from selenium import webdriver\n",
    "from selenium.webdriver.common.by import By\n",
    "from selenium.webdriver.common.keys import Keys\n",
    "from tqdm.auto import tqdm"
   ]
  },
  {
   "cell_type": "code",
   "execution_count": 2,
   "metadata": {},
   "outputs": [],
   "source": [
    "url = 'https://www.liffe.si/urnik_2024/filmi.aspx?ln=sl&groupby=abc'\n",
    "response = requests.get(url)"
   ]
  },
  {
   "cell_type": "code",
   "execution_count": 3,
   "metadata": {},
   "outputs": [
    {
     "data": {
      "text/plain": [
       "['Alpha. (2024)',\n",
       " 'Ali je bilo kaj avantgardnega? (2024)',\n",
       " 'Amen. (2002)',\n",
       " 'Anora (2024)',\n",
       " 'April (2024)']"
      ]
     },
     "execution_count": 3,
     "metadata": {},
     "output_type": "execute_result"
    }
   ],
   "source": [
    "soup = BeautifulSoup(response.text, \"html.parser\")\n",
    "\n",
    "def extract_title_year(row_tag):\n",
    "    title = row_tag.find('div', attrs={'class': re.compile(r'naslov_filma_orig')}).text.strip('\\n| ')\n",
    "    year = row_tag.find('span', attrs={'id': re.compile(r'Label4')}).text.strip('\\n| ')\n",
    "    return title, year\n",
    "\n",
    "movies = []\n",
    "for row_tag in soup.find_all('div', attrs={'class': 'row'}):\n",
    "    title = row_tag.find('div', attrs={'class': re.compile(r'naslov_filma_orig')}).text.strip('\\n| ')\n",
    "    year = row_tag.find('span', attrs={'id': re.compile(r'Label4')}).text.strip('\\n| ')\n",
    "\n",
    "    if title and year and int(year):\n",
    "        movies.append(f'{title} ({year})')\n",
    "\n",
    "movies = [m.replace('Vem (', 'Vem? (') if 'Vem' in m else m for m in movies]\n",
    "movies[:5]"
   ]
  },
  {
   "cell_type": "code",
   "execution_count": 4,
   "metadata": {},
   "outputs": [],
   "source": [
    "\n",
    "def extract_movie_ratings(title_and_year: str):\n",
    "\n",
    "    sleep(random.randint(1, 5))\n",
    "\n",
    "    # set a headless driver\n",
    "    ff_options = webdriver.FirefoxOptions()\n",
    "    ff_options.add_argument(\"-headless\")\n",
    "\n",
    "    user_agent = (\n",
    "        \"Mozilla/5.0 (X11; Linux x86_64) AppleWebKit/537.36 (KHTML, like Gecko) Chrome/60.0.3112.50 Safari/537.36\"\n",
    "    )\n",
    "    ff_options.add_argument(f\"user-agent={user_agent}\")\n",
    "\n",
    "    driver = webdriver.Firefox(options=ff_options)\n",
    "    driver.set_window_size(1080, 800)  # set the size of the window\n",
    "\n",
    "    # get page content\n",
    "    url = 'https://www.imdb.com/'\n",
    "    driver.get(url)\n",
    "    sleep(random.randint(1, 5))\n",
    "\n",
    "    # search for the movie\n",
    "    driver.find_element(By.ID, 'suggestion-search').send_keys(title_and_year)\n",
    "    driver.find_element(By.ID, 'suggestion-search').send_keys(Keys.ENTER)\n",
    "    sleep(random.randint(1, 5))\n",
    "\n",
    "    driver.find_element(By.XPATH, '//*[contains(text(), \"Exact matches\")]').click()\n",
    "    sleep(random.randint(1, 5))\n",
    "\n",
    "    soup = BeautifulSoup(driver.page_source, \"html.parser\")\n",
    "    tag = soup.find('li', attrs={'class': re.compile(r'find-title-result')})\n",
    "    movie_url = url + tag.find('a').get('href').split('?')[0]\n",
    "    driver.get(movie_url + 'ratings')\n",
    "\n",
    "    sleep(random.randint(1, 5))\n",
    "    soup = BeautifulSoup(driver.page_source, \"html.parser\")\n",
    "\n",
    "    tag = soup.find('div', attrs={'data-testid':\"rating-button__aggregate-rating\"})\n",
    "    score = tag.find('span').text\n",
    "    votes = tag.find_all('div')[-1].text\n",
    "\n",
    "    driver.quit()\n",
    "\n",
    "    return {'title': title_and_year, 'score': score, 'votes': votes, 'url': movie_url}\n",
    "\n"
   ]
  },
  {
   "cell_type": "code",
   "execution_count": 5,
   "metadata": {},
   "outputs": [
    {
     "data": {
      "application/vnd.jupyter.widget-view+json": {
       "model_id": "982524749cfc463c8d11a58e5d01dee5",
       "version_major": 2,
       "version_minor": 0
      },
      "text/plain": [
       "  0%|          | 0/90 [00:00<?, ?it/s]"
      ]
     },
     "metadata": {},
     "output_type": "display_data"
    },
    {
     "data": {
      "application/vnd.jupyter.widget-view+json": {
       "model_id": "fbeb9261f1aa4189951444fcd22d6e3d",
       "version_major": 2,
       "version_minor": 0
      },
      "text/plain": [
       "  0%|          | 0/50 [00:00<?, ?it/s]"
      ]
     },
     "metadata": {},
     "output_type": "display_data"
    },
    {
     "data": {
      "application/vnd.jupyter.widget-view+json": {
       "model_id": "25a1008a81304c2eaff06df0cc097501",
       "version_major": 2,
       "version_minor": 0
      },
      "text/plain": [
       "  0%|          | 0/28 [00:00<?, ?it/s]"
      ]
     },
     "metadata": {},
     "output_type": "display_data"
    },
    {
     "data": {
      "application/vnd.jupyter.widget-view+json": {
       "model_id": "bf1888bb458d4c7a9d2c43f6f0a0459b",
       "version_major": 2,
       "version_minor": 0
      },
      "text/plain": [
       "  0%|          | 0/17 [00:00<?, ?it/s]"
      ]
     },
     "metadata": {},
     "output_type": "display_data"
    },
    {
     "data": {
      "application/vnd.jupyter.widget-view+json": {
       "model_id": "4e33758112b8431ea406495db3c469c4",
       "version_major": 2,
       "version_minor": 0
      },
      "text/plain": [
       "  0%|          | 0/11 [00:00<?, ?it/s]"
      ]
     },
     "metadata": {},
     "output_type": "display_data"
    },
    {
     "data": {
      "application/vnd.jupyter.widget-view+json": {
       "model_id": "b31ef75f08c542fca65818dece4e1115",
       "version_major": 2,
       "version_minor": 0
      },
      "text/plain": [
       "  0%|          | 0/8 [00:00<?, ?it/s]"
      ]
     },
     "metadata": {},
     "output_type": "display_data"
    },
    {
     "data": {
      "application/vnd.jupyter.widget-view+json": {
       "model_id": "f39d52c7d24347468a3b8c997eb590bc",
       "version_major": 2,
       "version_minor": 0
      },
      "text/plain": [
       "  0%|          | 0/7 [00:00<?, ?it/s]"
      ]
     },
     "metadata": {},
     "output_type": "display_data"
    },
    {
     "data": {
      "application/vnd.jupyter.widget-view+json": {
       "model_id": "a0fffc542b7346e6a42fb1afbbb4a5c7",
       "version_major": 2,
       "version_minor": 0
      },
      "text/plain": [
       "  0%|          | 0/6 [00:00<?, ?it/s]"
      ]
     },
     "metadata": {},
     "output_type": "display_data"
    },
    {
     "data": {
      "application/vnd.jupyter.widget-view+json": {
       "model_id": "748acca25cc5494e9c6e2aec867decf1",
       "version_major": 2,
       "version_minor": 0
      },
      "text/plain": [
       "  0%|          | 0/6 [00:00<?, ?it/s]"
      ]
     },
     "metadata": {},
     "output_type": "display_data"
    },
    {
     "data": {
      "application/vnd.jupyter.widget-view+json": {
       "model_id": "e6c063e628fd412ea3b894c549248014",
       "version_major": 2,
       "version_minor": 0
      },
      "text/plain": [
       "  0%|          | 0/6 [00:00<?, ?it/s]"
      ]
     },
     "metadata": {},
     "output_type": "display_data"
    }
   ],
   "source": [
    "n_tries = 10\n",
    "results = []\n",
    "\n",
    "while n_tries:\n",
    "    for movie in tqdm(movies, leave=False):\n",
    "        try:\n",
    "            results.append(extract_movie_ratings(movie))\n",
    "            movies.remove(movie)\n",
    "        except Exception:\n",
    "            # print(movie, e)\n",
    "            continue\n",
    "    n_tries -= 1"
   ]
  },
  {
   "cell_type": "code",
   "execution_count": 28,
   "metadata": {},
   "outputs": [],
   "source": [
    "import pandas as pd\n",
    "\n",
    "df = pd.DataFrame(results)\n",
    "df.to_csv('movies.csv', index=False)"
   ]
  },
  {
   "cell_type": "code",
   "execution_count": 29,
   "metadata": {},
   "outputs": [],
   "source": [
    "def float_vote(x: str):\n",
    "    if 'K' in x:\n",
    "        return float(x.replace('K', '')) * 1e3\n",
    "    if 'M' in x:\n",
    "        return float(x.replace('M', '')) * 1e6\n",
    "    return float(x)\n",
    "\n",
    "df.score = df.score.apply(float)\n",
    "df.votes = df.votes.apply(float_vote)\n"
   ]
  },
  {
   "cell_type": "code",
   "execution_count": 30,
   "metadata": {},
   "outputs": [
    {
     "name": "stdout",
     "output_type": "stream",
     "text": [
      "|    | title                             |   score |   votes | url                                     |\n",
      "|---:|:----------------------------------|--------:|--------:|:----------------------------------------|\n",
      "|  0 | Anul Nou care n-a fost (2024)     |     8.7 |     915 | https://www.imdb.com//title/tt33030375/ |\n",
      "|  1 | Anora (2024)                      |     8.3 |    4300 | https://www.imdb.com//title/tt28607951/ |\n",
      "|  2 | Ainda estou aqui (2024)           |     8.1 |     610 | https://www.imdb.com//title/tt14961016/ |\n",
      "|  3 | Young Hearts (2024)               |     8.1 |     565 | https://www.imdb.com//title/tt15245268/ |\n",
      "|  4 | The Brutalist (2024)              |     8.1 |     798 | https://www.imdb.com//title/tt8999762/  |\n",
      "|  5 | Z (1969)                          |     8.1 |   32000 | https://www.imdb.com//title/tt0065234/  |\n",
      "|  6 | Flow (2024)                       |     8   |    2100 | https://www.imdb.com//title/tt4772188/  |\n",
      "|  7 | Fekete pont (2024)                |     8   |     721 | https://www.imdb.com//title/tt30807200/ |\n",
      "|  8 | Akai tenshi (1966)                |     7.8 |    2000 | https://www.imdb.com//title/tt0139820/  |\n",
      "|  9 | L'aveu (1970)                     |     7.8 |    4900 | https://www.imdb.com//title/tt0065439/  |\n",
      "| 10 | Conclave (2024)                   |     7.7 |    3100 | https://www.imdb.com//title/tt20215234/ |\n",
      "| 11 | État de siege (1972)              |     7.7 |    6200 | https://www.imdb.com//title/tt0070959/  |\n",
      "| 12 | Missing (1982)                    |     7.7 |   24000 | https://www.imdb.com//title/tt0084335/  |\n",
      "| 13 | The Substance (2024)              |     7.6 |   84000 | https://www.imdb.com//title/tt17526714/ |\n",
      "| 14 | The Seed of the Sacred Fig (2024) |     7.6 |    2000 | https://www.imdb.com//title/tt32178949/ |\n"
     ]
    }
   ],
   "source": [
    "print(df[df.votes > 100].sort_values('score', ascending=False).head(15).reset_index(drop=True).to_markdown())"
   ]
  },
  {
   "cell_type": "markdown",
   "metadata": {},
   "source": [
    "|    | title                             |   score |   votes | url                                     |\n",
    "|---:|:----------------------------------|--------:|--------:|:----------------------------------------|\n",
    "|  0 | Anul Nou care n-a fost (2024)     |     8.7 |     915 | https://www.imdb.com//title/tt33030375/ |\n",
    "|  1 | Anora (2024)                      |     8.3 |    4300 | https://www.imdb.com//title/tt28607951/ |\n",
    "|  2 | Ainda estou aqui (2024)           |     8.1 |     610 | https://www.imdb.com//title/tt14961016/ |\n",
    "|  3 | Young Hearts (2024)               |     8.1 |     565 | https://www.imdb.com//title/tt15245268/ |\n",
    "|  4 | The Brutalist (2024)              |     8.1 |     798 | https://www.imdb.com//title/tt8999762/  |\n",
    "|  5 | Z (1969)                          |     8.1 |   32000 | https://www.imdb.com//title/tt0065234/  |\n",
    "|  6 | Flow (2024)                       |     8   |    2100 | https://www.imdb.com//title/tt4772188/  |\n",
    "|  7 | Fekete pont (2024)                |     8   |     721 | https://www.imdb.com//title/tt30807200/ |\n",
    "|  8 | Akai tenshi (1966)                |     7.8 |    2000 | https://www.imdb.com//title/tt0139820/  |\n",
    "|  9 | L'aveu (1970)                     |     7.8 |    4900 | https://www.imdb.com//title/tt0065439/  |\n",
    "| 10 | Conclave (2024)                   |     7.7 |    3100 | https://www.imdb.com//title/tt20215234/ |\n",
    "| 11 | État de siege (1972)              |     7.7 |    6200 | https://www.imdb.com//title/tt0070959/  |\n",
    "| 12 | Missing (1982)                    |     7.7 |   24000 | https://www.imdb.com//title/tt0084335/  |\n",
    "| 13 | The Substance (2024)              |     7.6 |   84000 | https://www.imdb.com//title/tt17526714/ |\n",
    "| 14 | The Seed of the Sacred Fig (2024) |     7.6 |    2000 | https://www.imdb.com//title/tt32178949/ |"
   ]
  }
 ],
 "metadata": {
  "kernelspec": {
   "display_name": ".venv",
   "language": "python",
   "name": "python3"
  },
  "language_info": {
   "codemirror_mode": {
    "name": "ipython",
    "version": 3
   },
   "file_extension": ".py",
   "mimetype": "text/x-python",
   "name": "python",
   "nbconvert_exporter": "python",
   "pygments_lexer": "ipython3",
   "version": "3.8.20"
  }
 },
 "nbformat": 4,
 "nbformat_minor": 2
}
